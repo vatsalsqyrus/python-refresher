{
 "cells": [
  {
   "cell_type": "markdown",
   "id": "18b42c55",
   "metadata": {
    "slideshow": {
     "slide_type": "slide"
    }
   },
   "source": [
    "## Python Refresher 🚀\n",
    "\n"
   ]
  },
  {
   "cell_type": "markdown",
   "id": "5546d38e",
   "metadata": {
    "slideshow": {
     "slide_type": "fragment"
    }
   },
   "source": [
    "__Python is SIMPLE!__"
   ]
  },
  {
   "cell_type": "markdown",
   "id": "c2780661",
   "metadata": {
    "slideshow": {
     "slide_type": "slide"
    }
   },
   "source": [
    "## Hello World in different languages"
   ]
  },
  {
   "cell_type": "markdown",
   "id": "b807013f",
   "metadata": {
    "slideshow": {
     "slide_type": "slide"
    }
   },
   "source": [
    "### C"
   ]
  },
  {
   "cell_type": "markdown",
   "id": "fabf364e",
   "metadata": {
    "slideshow": {
     "slide_type": "fragment"
    }
   },
   "source": [
    "```\n",
    "#include <stdio.h>\n",
    "\n",
    "int main()\n",
    "{\n",
    "\tprintf(\"Hello World\");\n",
    "\treturn 0;\n",
    "}\n",
    "```"
   ]
  },
  {
   "cell_type": "markdown",
   "id": "70d676c8",
   "metadata": {
    "slideshow": {
     "slide_type": "slide"
    }
   },
   "source": [
    "### Java"
   ]
  },
  {
   "cell_type": "markdown",
   "id": "ee7161a5",
   "metadata": {
    "slideshow": {
     "slide_type": "fragment"
    }
   },
   "source": [
    "```\n",
    "class HelloWorld\n",
    "{\n",
    "\tpublic static void main(String args[])\n",
    "\t{\n",
    "\t\tSystem.out.println(\"Hello, World\");\n",
    "\t}\n",
    "}\n",
    "```"
   ]
  },
  {
   "cell_type": "markdown",
   "id": "b43dd0ad",
   "metadata": {
    "slideshow": {
     "slide_type": "slide"
    }
   },
   "source": [
    "### Python"
   ]
  },
  {
   "cell_type": "markdown",
   "id": "a12e2217",
   "metadata": {
    "slideshow": {
     "slide_type": "fragment"
    }
   },
   "source": [
    "```\n",
    "print(\"Hello World\")\n",
    "```"
   ]
  },
  {
   "cell_type": "markdown",
   "id": "823a27dc",
   "metadata": {
    "slideshow": {
     "slide_type": "slide"
    }
   },
   "source": [
    "### Python in Jupyter Notebook"
   ]
  },
  {
   "cell_type": "code",
   "execution_count": 1,
   "id": "f5c5235f",
   "metadata": {
    "slideshow": {
     "slide_type": "fragment"
    }
   },
   "outputs": [
    {
     "data": {
      "text/plain": [
       "'Hello World'"
      ]
     },
     "execution_count": 1,
     "metadata": {},
     "output_type": "execute_result"
    }
   ],
   "source": [
    "\"Hello World\""
   ]
  },
  {
   "cell_type": "markdown",
   "id": "6d07e922",
   "metadata": {
    "slideshow": {
     "slide_type": "fragment"
    }
   },
   "source": [
    "### Python does make you lazy 😂"
   ]
  },
  {
   "cell_type": "markdown",
   "id": "741fad79",
   "metadata": {
    "slideshow": {
     "slide_type": "fragment"
    }
   },
   "source": [
    "<blockquote>“I choose a lazy person to do a hard job. Because a lazy person will find an easy way to do it.”\n",
    "\n",
    "― Bill Gates</blockquote>"
   ]
  },
  {
   "cell_type": "markdown",
   "id": "d2408872",
   "metadata": {
    "slideshow": {
     "slide_type": "slide"
    }
   },
   "source": [
    "## Important things in Python 🤔"
   ]
  },
  {
   "cell_type": "markdown",
   "id": "dc57e204",
   "metadata": {
    "slideshow": {
     "slide_type": "fragment"
    }
   },
   "source": [
    "### Python Data structures"
   ]
  },
  {
   "cell_type": "markdown",
   "id": "49cd3006",
   "metadata": {
    "slideshow": {
     "slide_type": "fragment"
    }
   },
   "source": [
    "- ⭐️ Set\n",
    "- ⭐️ Tuple\n",
    "- ⭐️ List\n",
    "- ⭐️ Dictionary"
   ]
  },
  {
   "cell_type": "markdown",
   "id": "5b3902c2",
   "metadata": {
    "slideshow": {
     "slide_type": "slide"
    }
   },
   "source": [
    "#### ⭐️ Set"
   ]
  },
  {
   "cell_type": "markdown",
   "id": "9343a326",
   "metadata": {
    "slideshow": {
     "slide_type": "fragment"
    }
   },
   "source": [
    "_Things to remember with **Set**_\n",
    "\n",
    "- Items inside a **Set** are immutable, which means they cannot be changed or modified. But you can **add** or **delete** items\n",
    "- Sets are unindexed. This means we cannot get any _**n<sup>th</sup>**_ in a Set\n",
    "- **Doesn't allow the storage of duplicate values**\n",
    "- **Sets** store everything in a sorted order"
   ]
  },
  {
   "cell_type": "code",
   "execution_count": 3,
   "id": "f7e29f4d",
   "metadata": {
    "slideshow": {
     "slide_type": "subslide"
    }
   },
   "outputs": [
    {
     "data": {
      "text/plain": [
       "{1, '1', 2, '2'}"
      ]
     },
     "execution_count": 3,
     "metadata": {},
     "output_type": "execute_result"
    }
   ],
   "source": [
    "# declaring a set\n",
    "\n",
    "junk_set = {1, \"1\", \"2\", 2}\n",
    "junk_set"
   ]
  },
  {
   "cell_type": "code",
   "execution_count": 4,
   "id": "6aec73a7",
   "metadata": {
    "slideshow": {
     "slide_type": "fragment"
    }
   },
   "outputs": [
    {
     "data": {
      "text/plain": [
       "{1, '1', 2, '2', '3'}"
      ]
     },
     "execution_count": 4,
     "metadata": {},
     "output_type": "execute_result"
    }
   ],
   "source": [
    "# adding items to a set\n",
    "junk_set.add(\"3\")\n",
    "junk_set"
   ]
  },
  {
   "cell_type": "code",
   "execution_count": 5,
   "id": "f07c7a78",
   "metadata": {
    "slideshow": {
     "slide_type": "subslide"
    }
   },
   "outputs": [
    {
     "data": {
      "text/plain": [
       "{'1', 2, '2', '3'}"
      ]
     },
     "execution_count": 5,
     "metadata": {},
     "output_type": "execute_result"
    }
   ],
   "source": [
    "# removing items from a set\n",
    "# provide the item you want to remove\n",
    "junk_set.remove(1)\n",
    "junk_set"
   ]
  },
  {
   "cell_type": "code",
   "execution_count": 6,
   "id": "013aa5f0",
   "metadata": {
    "slideshow": {
     "slide_type": "fragment"
    }
   },
   "outputs": [
    {
     "data": {
      "text/plain": [
       "{'1', 2, '2'}"
      ]
     },
     "execution_count": 6,
     "metadata": {},
     "output_type": "execute_result"
    }
   ],
   "source": [
    "# provide the item you want to remove\n",
    "junk_set.remove(\"3\")\n",
    "junk_set"
   ]
  },
  {
   "cell_type": "markdown",
   "id": "8c73189f",
   "metadata": {
    "slideshow": {
     "slide_type": "slide"
    }
   },
   "source": [
    "_Given two sets create a common set_"
   ]
  },
  {
   "cell_type": "code",
   "execution_count": 8,
   "id": "cb19eeec",
   "metadata": {
    "slideshow": {
     "slide_type": "fragment"
    }
   },
   "outputs": [],
   "source": [
    "set_1 = set((1, 2, 3, 4, 5))\n",
    "set_2 = set((2, 4, 5, 6, 7, 8))"
   ]
  },
  {
   "cell_type": "code",
   "execution_count": 9,
   "id": "d4b0845f",
   "metadata": {
    "slideshow": {
     "slide_type": "fragment"
    }
   },
   "outputs": [
    {
     "data": {
      "text/plain": [
       "{1, 2, 3, 4, 5, 6, 7, 8}"
      ]
     },
     "execution_count": 9,
     "metadata": {},
     "output_type": "execute_result"
    }
   ],
   "source": [
    "set_common = set_1.union(set_2)\n",
    "set_common"
   ]
  },
  {
   "cell_type": "markdown",
   "id": "b49da969",
   "metadata": {
    "slideshow": {
     "slide_type": "slide"
    }
   },
   "source": [
    "_Given two sets find items repeating in both the sets_"
   ]
  },
  {
   "cell_type": "code",
   "execution_count": 10,
   "id": "bdd5a100",
   "metadata": {
    "slideshow": {
     "slide_type": "fragment"
    }
   },
   "outputs": [],
   "source": [
    "set_1 = set((1, 2, 3, 4, 5))\n",
    "set_2 = set((2, 4, 5, 6, 7, 8))"
   ]
  },
  {
   "cell_type": "code",
   "execution_count": 11,
   "id": "99f63c39",
   "metadata": {
    "slideshow": {
     "slide_type": "fragment"
    }
   },
   "outputs": [
    {
     "data": {
      "text/plain": [
       "{2, 4, 5}"
      ]
     },
     "execution_count": 11,
     "metadata": {},
     "output_type": "execute_result"
    }
   ],
   "source": [
    "set_inter = set_1.intersection(set_2)\n",
    "set_inter"
   ]
  },
  {
   "cell_type": "markdown",
   "id": "58a06f46",
   "metadata": {
    "slideshow": {
     "slide_type": "slide"
    }
   },
   "source": [
    "#### Do you feel lazy to write `union` and `intersection`? I do!"
   ]
  },
  {
   "cell_type": "code",
   "execution_count": 12,
   "id": "98e25b86",
   "metadata": {
    "slideshow": {
     "slide_type": "fragment"
    }
   },
   "outputs": [
    {
     "data": {
      "text/plain": [
       "{1, 2, 3, 4}"
      ]
     },
     "execution_count": 12,
     "metadata": {},
     "output_type": "execute_result"
    }
   ],
   "source": [
    "## union\n",
    "set((1, 2, 3)) | set((2, 3, 4))"
   ]
  },
  {
   "cell_type": "code",
   "execution_count": 13,
   "id": "10da919f",
   "metadata": {
    "slideshow": {
     "slide_type": "fragment"
    }
   },
   "outputs": [
    {
     "data": {
      "text/plain": [
       "{2, 3}"
      ]
     },
     "execution_count": 13,
     "metadata": {},
     "output_type": "execute_result"
    }
   ],
   "source": [
    "## intersection\n",
    "set((1, 2, 3)) & set((2, 3, 4))"
   ]
  },
  {
   "cell_type": "code",
   "execution_count": 14,
   "id": "4230dc72",
   "metadata": {
    "slideshow": {
     "slide_type": "fragment"
    }
   },
   "outputs": [
    {
     "data": {
      "text/plain": [
       "{1, 2, 3, 4}"
      ]
     },
     "execution_count": 14,
     "metadata": {},
     "output_type": "execute_result"
    }
   ],
   "source": [
    "## keeps everything in a sorted order\n",
    "set((2, 3, 4, 1))"
   ]
  },
  {
   "cell_type": "markdown",
   "id": "de9b2938",
   "metadata": {
    "slideshow": {
     "slide_type": "slide"
    }
   },
   "source": [
    "#### ⭐️ Tuple"
   ]
  },
  {
   "cell_type": "markdown",
   "id": "b1e0f26c",
   "metadata": {
    "slideshow": {
     "slide_type": "fragment"
    }
   },
   "source": [
    "_Things to remember with **Tuple**_\n",
    "\n",
    "- **Tuples** are ordered, i.e. once the order is defined it won't change\n",
    "- **Tuples** are also immutable and they don't allow _addition_ or _deletion_ of items\n",
    "- **Tuples** allow duplicates\n",
    "- **Tuples** allow indexing i.e. you can get an item at the _n<sup>th</sup>_ index"
   ]
  },
  {
   "cell_type": "code",
   "execution_count": 15,
   "id": "e9c21377",
   "metadata": {
    "slideshow": {
     "slide_type": "fragment"
    }
   },
   "outputs": [
    {
     "data": {
      "text/plain": [
       "(1, 2, 3, True, 'Hello', 'Qyrus')"
      ]
     },
     "execution_count": 15,
     "metadata": {},
     "output_type": "execute_result"
    }
   ],
   "source": [
    "## declaring tuple\n",
    "\n",
    "junk_tup = (1, 2, 3, True, \"Hello\", \"Qyrus\")\n",
    "junk_tup"
   ]
  },
  {
   "cell_type": "code",
   "execution_count": 16,
   "id": "a3e03f69",
   "metadata": {
    "slideshow": {
     "slide_type": "subslide"
    }
   },
   "outputs": [
    {
     "data": {
      "text/plain": [
       "2"
      ]
     },
     "execution_count": 16,
     "metadata": {},
     "output_type": "execute_result"
    }
   ],
   "source": [
    "## getting item at nt index\n",
    "junk_tup[1]"
   ]
  },
  {
   "cell_type": "code",
   "execution_count": 17,
   "id": "8ea38e6e",
   "metadata": {
    "slideshow": {
     "slide_type": "fragment"
    }
   },
   "outputs": [
    {
     "data": {
      "text/plain": [
       "(1, 2, 3, 3, 5, 6)"
      ]
     },
     "execution_count": 17,
     "metadata": {},
     "output_type": "execute_result"
    }
   ],
   "source": [
    "## adding two tuples\n",
    "\n",
    "(1, 2, 3) + (3, 5, 6)"
   ]
  },
  {
   "cell_type": "code",
   "execution_count": 18,
   "id": "9f5f8605",
   "metadata": {
    "slideshow": {
     "slide_type": "fragment"
    }
   },
   "outputs": [
    {
     "data": {
      "text/plain": [
       "(1, 2, 3, 1, 2, 3)"
      ]
     },
     "execution_count": 18,
     "metadata": {},
     "output_type": "execute_result"
    }
   ],
   "source": [
    "## multiplying tuples to create the same content n times\n",
    "n = 2\n",
    "(1, 2, 3) * n"
   ]
  },
  {
   "cell_type": "code",
   "execution_count": 19,
   "id": "0905f3c4",
   "metadata": {
    "slideshow": {
     "slide_type": "subslide"
    }
   },
   "outputs": [
    {
     "data": {
      "text/plain": [
       "0"
      ]
     },
     "execution_count": 19,
     "metadata": {},
     "output_type": "execute_result"
    }
   ],
   "source": [
    "# finding an item in tuple\n",
    "\n",
    "tup = (\"hello\", \"qyrus\")\n",
    "tup.index(\"hello\")"
   ]
  },
  {
   "cell_type": "code",
   "execution_count": 20,
   "id": "59138f74",
   "metadata": {
    "slideshow": {
     "slide_type": "fragment"
    }
   },
   "outputs": [
    {
     "data": {
      "text/plain": [
       "1"
      ]
     },
     "execution_count": 20,
     "metadata": {},
     "output_type": "execute_result"
    }
   ],
   "source": [
    "tup.index(\"qyrus\")"
   ]
  },
  {
   "cell_type": "code",
   "execution_count": 22,
   "id": "f1120b57",
   "metadata": {
    "slideshow": {
     "slide_type": "subslide"
    }
   },
   "outputs": [],
   "source": [
    "# tuple items to variables\n",
    "\n",
    "title, first_name, last_name, icn = (\"Mr.\", \"Elliot\", \"Alderson\", \"👺\")\n"
   ]
  },
  {
   "cell_type": "code",
   "execution_count": 23,
   "id": "1c42210b",
   "metadata": {},
   "outputs": [
    {
     "name": "stdout",
     "output_type": "stream",
     "text": [
      "NAME:  Elliot\n"
     ]
    }
   ],
   "source": [
    "print(\"NAME: \", first_name)"
   ]
  },
  {
   "cell_type": "code",
   "execution_count": 24,
   "id": "297200cd",
   "metadata": {
    "slideshow": {
     "slide_type": "fragment"
    }
   },
   "outputs": [
    {
     "name": "stdout",
     "output_type": "stream",
     "text": [
      "Mr. Elliot Alderson 👺\n"
     ]
    }
   ],
   "source": [
    "# printing using f-strings\n",
    "print(f\"{title} {first_name} {last_name} {icn}\")"
   ]
  },
  {
   "cell_type": "markdown",
   "id": "27e4e8d4",
   "metadata": {
    "slideshow": {
     "slide_type": "slide"
    }
   },
   "source": [
    "#### ⭐️ List"
   ]
  },
  {
   "cell_type": "markdown",
   "id": "090863a9",
   "metadata": {
    "slideshow": {
     "slide_type": "fragment"
    }
   },
   "source": [
    "You can think of _lists_ as arrays in other programming languages. You can do anything with lists, there aren't any restrictions "
   ]
  },
  {
   "cell_type": "code",
   "execution_count": 25,
   "id": "2005190d",
   "metadata": {
    "slideshow": {
     "slide_type": "subslide"
    }
   },
   "outputs": [],
   "source": [
    "## declaring a list\n",
    "\n",
    "lst = [1, 2, 3, 4, 5, \"hello\", \"world\"]"
   ]
  },
  {
   "cell_type": "code",
   "execution_count": 26,
   "id": "9f81af2b",
   "metadata": {},
   "outputs": [],
   "source": [
    "# _lst = [1, 2, 3]"
   ]
  },
  {
   "cell_type": "code",
   "execution_count": 27,
   "id": "99f2f9e0",
   "metadata": {
    "slideshow": {
     "slide_type": "fragment"
    }
   },
   "outputs": [
    {
     "data": {
      "text/plain": [
       "[1, 2, 3, 4, 5, 'hello', 'world', '22']"
      ]
     },
     "execution_count": 27,
     "metadata": {},
     "output_type": "execute_result"
    }
   ],
   "source": [
    "## adding things to list\n",
    "\n",
    "lst.append(\"22\")\n",
    "lst"
   ]
  },
  {
   "cell_type": "code",
   "execution_count": 28,
   "id": "9c066a65",
   "metadata": {
    "slideshow": {
     "slide_type": "fragment"
    }
   },
   "outputs": [
    {
     "data": {
      "text/plain": [
       "[1, 2, 3, 4, 5, 'hello', 'world', '22', 11]"
      ]
     },
     "execution_count": 28,
     "metadata": {},
     "output_type": "execute_result"
    }
   ],
   "source": [
    "lst += [11]\n",
    "lst"
   ]
  },
  {
   "cell_type": "code",
   "execution_count": 29,
   "id": "862e051c",
   "metadata": {
    "slideshow": {
     "slide_type": "subslide"
    }
   },
   "outputs": [
    {
     "data": {
      "text/plain": [
       "[1, 2, 3, 4, 5, 'hello', 'world', '22']"
      ]
     },
     "execution_count": 29,
     "metadata": {},
     "output_type": "execute_result"
    }
   ],
   "source": [
    "## removing the last element in a list\n",
    "\n",
    "lst.pop()\n",
    "lst"
   ]
  },
  {
   "cell_type": "code",
   "execution_count": 30,
   "id": "6a562e69",
   "metadata": {
    "slideshow": {
     "slide_type": "fragment"
    }
   },
   "outputs": [
    {
     "data": {
      "text/plain": [
       "[1, 3, 4, 5, 'hello', 'world', '22']"
      ]
     },
     "execution_count": 30,
     "metadata": {},
     "output_type": "execute_result"
    }
   ],
   "source": [
    "## removing an element at the nth index\n",
    "\n",
    "idx = 1\n",
    "lst.pop(idx)\n",
    "lst"
   ]
  },
  {
   "cell_type": "code",
   "execution_count": 31,
   "id": "f21448d6",
   "metadata": {
    "slideshow": {
     "slide_type": "subslide"
    }
   },
   "outputs": [
    {
     "data": {
      "text/plain": [
       "[1, 2, 4, 5, 'hello', 'world', '22']"
      ]
     },
     "execution_count": 31,
     "metadata": {},
     "output_type": "execute_result"
    }
   ],
   "source": [
    "## modifying index value\n",
    "\n",
    "idx = 1\n",
    "lst[idx] = 2\n",
    "lst"
   ]
  },
  {
   "cell_type": "code",
   "execution_count": 32,
   "id": "5160673d",
   "metadata": {
    "slideshow": {
     "slide_type": "fragment"
    }
   },
   "outputs": [
    {
     "data": {
      "text/plain": [
       "[1, 2, 4, 5, 'hello', 'world', '22', {'hello': 'world'}]"
      ]
     },
     "execution_count": 32,
     "metadata": {},
     "output_type": "execute_result"
    }
   ],
   "source": [
    "## you can add anything in a list\n",
    "lst.append({\"hello\": \"world\"})\n",
    "lst"
   ]
  },
  {
   "cell_type": "markdown",
   "id": "146205fd",
   "metadata": {
    "slideshow": {
     "slide_type": "subslide"
    }
   },
   "source": [
    "##### Looping over List"
   ]
  },
  {
   "cell_type": "code",
   "execution_count": 33,
   "id": "c9067aa0",
   "metadata": {
    "slideshow": {
     "slide_type": "fragment"
    }
   },
   "outputs": [
    {
     "name": "stdout",
     "output_type": "stream",
     "text": [
      "1\n",
      "2\n",
      "4\n",
      "5\n",
      "hello\n",
      "world\n",
      "22\n",
      "{'hello': 'world'}\n"
     ]
    }
   ],
   "source": [
    "for item in lst:\n",
    "    print(item)"
   ]
  },
  {
   "cell_type": "code",
   "execution_count": 34,
   "id": "5ee1774f",
   "metadata": {
    "slideshow": {
     "slide_type": "fragment"
    }
   },
   "outputs": [
    {
     "name": "stdout",
     "output_type": "stream",
     "text": [
      "0 1\n",
      "1 2\n",
      "2 4\n",
      "3 5\n",
      "4 hello\n",
      "5 world\n",
      "6 22\n",
      "7 {'hello': 'world'}\n"
     ]
    }
   ],
   "source": [
    "# with index\n",
    "for idx in range(len(lst)):\n",
    "    print(idx, lst[idx])"
   ]
  },
  {
   "cell_type": "code",
   "execution_count": 35,
   "id": "915c5417",
   "metadata": {
    "slideshow": {
     "slide_type": "subslide"
    }
   },
   "outputs": [
    {
     "name": "stdout",
     "output_type": "stream",
     "text": [
      "0 1\n",
      "1 2\n",
      "2 4\n",
      "3 5\n",
      "4 hello\n",
      "5 world\n",
      "6 22\n",
      "7 {'hello': 'world'}\n"
     ]
    }
   ],
   "source": [
    "# with both index and item\n",
    "for idx, item in enumerate(lst):\n",
    "    print(idx, item)"
   ]
  },
  {
   "cell_type": "markdown",
   "id": "9e9ef02c",
   "metadata": {
    "slideshow": {
     "slide_type": "slide"
    }
   },
   "source": [
    "#### ⭐️ Dictionary "
   ]
  },
  {
   "cell_type": "markdown",
   "id": "0eb427c6",
   "metadata": {
    "slideshow": {
     "slide_type": "fragment"
    }
   },
   "source": [
    "_**Dictionary**_ is similar to an **HashMap** in other languages\n",
    "\n",
    "- Dictionary store `key:value` data pairs\n",
    "- Dictionary are ordered (from python version 3.7) but changable. One can change the value attached to a `key` and even delete the `key`"
   ]
  },
  {
   "cell_type": "code",
   "execution_count": 36,
   "id": "eea1a34d",
   "metadata": {
    "slideshow": {
     "slide_type": "fragment"
    }
   },
   "outputs": [
    {
     "data": {
      "text/plain": [
       "{'title': 'Mr', 'first_name': 'Elliot', 'last_name': 'Alderson'}"
      ]
     },
     "execution_count": 36,
     "metadata": {},
     "output_type": "execute_result"
    }
   ],
   "source": [
    "# creating a dictionary\n",
    "\n",
    "junk_dict = {\n",
    "    \"title\": \"Mr\",\n",
    "    \"first_name\": \"Elliot\",\n",
    "    \"last_name\": \"Alderson\"\n",
    "}\n",
    "junk_dict"
   ]
  },
  {
   "cell_type": "code",
   "execution_count": 37,
   "id": "c7412c96",
   "metadata": {
    "slideshow": {
     "slide_type": "subslide"
    }
   },
   "outputs": [
    {
     "data": {
      "text/plain": [
       "{'title': 'Mr', 'first_name': 'Elliot', 'last_name': 'Alderson', 'icn': '👺'}"
      ]
     },
     "execution_count": 37,
     "metadata": {},
     "output_type": "execute_result"
    }
   ],
   "source": [
    "# adding new `key:value` pair to a dictionary\n",
    "\n",
    "junk_dict[\"icn\"] = \"👺\"\n",
    "junk_dict"
   ]
  },
  {
   "cell_type": "code",
   "execution_count": 40,
   "id": "e50037cb",
   "metadata": {},
   "outputs": [
    {
     "data": {
      "text/plain": [
       "dict_keys(['title', 'first_name', 'last_name'])"
      ]
     },
     "execution_count": 40,
     "metadata": {},
     "output_type": "execute_result"
    }
   ],
   "source": [
    "junk_dict.keys()"
   ]
  },
  {
   "cell_type": "code",
   "execution_count": 39,
   "id": "def40b26",
   "metadata": {},
   "outputs": [
    {
     "ename": "KeyError",
     "evalue": "'icn'",
     "output_type": "error",
     "traceback": [
      "\u001b[0;31m---------------------------------------------------------------------------\u001b[0m",
      "\u001b[0;31mKeyError\u001b[0m                                  Traceback (most recent call last)",
      "\u001b[0;32m/var/folders/ld/3kmzxwbd7255x_lw0y_z0k0r0000gp/T/ipykernel_70239/1410681515.py\u001b[0m in \u001b[0;36m<module>\u001b[0;34m\u001b[0m\n\u001b[0;32m----> 1\u001b[0;31m \u001b[0mjunk_dict\u001b[0m\u001b[0;34m[\u001b[0m\u001b[0;34m\"icn\"\u001b[0m\u001b[0;34m]\u001b[0m\u001b[0;34m\u001b[0m\u001b[0;34m\u001b[0m\u001b[0m\n\u001b[0m",
      "\u001b[0;31mKeyError\u001b[0m: 'icn'"
     ]
    }
   ],
   "source": [
    "junk_dict[\"icn\"]"
   ]
  },
  {
   "cell_type": "code",
   "execution_count": 38,
   "id": "d481c526",
   "metadata": {
    "slideshow": {
     "slide_type": "fragment"
    }
   },
   "outputs": [
    {
     "data": {
      "text/plain": [
       "{'title': 'Mr', 'first_name': 'Elliot', 'last_name': 'Alderson'}"
      ]
     },
     "execution_count": 38,
     "metadata": {},
     "output_type": "execute_result"
    }
   ],
   "source": [
    "# removing a `key` from a dictionary\n",
    "del junk_dict[\"icn\"]\n",
    "junk_dict"
   ]
  },
  {
   "cell_type": "code",
   "execution_count": 41,
   "id": "35aa2a07",
   "metadata": {
    "slideshow": {
     "slide_type": "subslide"
    }
   },
   "outputs": [
    {
     "data": {
      "text/plain": [
       "'Mr'"
      ]
     },
     "execution_count": 41,
     "metadata": {},
     "output_type": "execute_result"
    }
   ],
   "source": [
    "# accessing value of a key in a dictionary\n",
    "junk_dict[\"title\"]"
   ]
  },
  {
   "cell_type": "code",
   "execution_count": 42,
   "id": "9a4dd862",
   "metadata": {
    "slideshow": {
     "slide_type": "fragment"
    }
   },
   "outputs": [
    {
     "data": {
      "text/plain": [
       "'NA'"
      ]
     },
     "execution_count": 42,
     "metadata": {},
     "output_type": "execute_result"
    }
   ],
   "source": [
    "# use `.get()` with a default value if not sure that key is present\n",
    "junk_dict.get(\"icn\", \"NA\")"
   ]
  },
  {
   "cell_type": "code",
   "execution_count": 43,
   "id": "5c4a8d98",
   "metadata": {
    "slideshow": {
     "slide_type": "subslide"
    }
   },
   "outputs": [
    {
     "data": {
      "text/plain": [
       "{'title': 'Hacker', 'first_name': 'Elliot', 'last_name': 'Alderson'}"
      ]
     },
     "execution_count": 43,
     "metadata": {},
     "output_type": "execute_result"
    }
   ],
   "source": [
    "# updating or modifying values in a dictionary\n",
    "junk_dict[\"title\"] = \"Hacker\"\n",
    "junk_dict"
   ]
  },
  {
   "cell_type": "code",
   "execution_count": 44,
   "id": "266103aa",
   "metadata": {
    "slideshow": {
     "slide_type": "fragment"
    }
   },
   "outputs": [
    {
     "data": {
      "text/plain": [
       "{'title': 'Legendary Hacker', 'first_name': 'Elliot', 'last_name': 'Alderson'}"
      ]
     },
     "execution_count": 44,
     "metadata": {},
     "output_type": "execute_result"
    }
   ],
   "source": [
    "# lets add `Legendary` before hacker\n",
    "junk_dict.update({\"title\": \"Legendary Hacker\"})\n",
    "junk_dict"
   ]
  },
  {
   "cell_type": "code",
   "execution_count": 45,
   "id": "034ee21d",
   "metadata": {
    "slideshow": {
     "slide_type": "fragment"
    }
   },
   "outputs": [
    {
     "data": {
      "text/plain": [
       "{'title': 'Legendary Hacker',\n",
       " 'first_name': 'Elliot',\n",
       " 'last_name': 'Alderson',\n",
       " 'icn': '👺'}"
      ]
     },
     "execution_count": 45,
     "metadata": {},
     "output_type": "execute_result"
    }
   ],
   "source": [
    "# lets add the `icn` key\n",
    "junk_dict.update({\"icn\": \"👺\"})\n",
    "junk_dict"
   ]
  },
  {
   "cell_type": "markdown",
   "id": "2734be51",
   "metadata": {
    "slideshow": {
     "slide_type": "subslide"
    }
   },
   "source": [
    "##### Looping a Dictionary"
   ]
  },
  {
   "cell_type": "code",
   "execution_count": 46,
   "id": "76af0d46",
   "metadata": {
    "slideshow": {
     "slide_type": "fragment"
    }
   },
   "outputs": [
    {
     "name": "stdout",
     "output_type": "stream",
     "text": [
      "title\n",
      "first_name\n",
      "last_name\n",
      "icn\n"
     ]
    }
   ],
   "source": [
    "## keys\n",
    "for i in junk_dict:\n",
    "    print(i)"
   ]
  },
  {
   "cell_type": "code",
   "execution_count": 47,
   "id": "2b1c525d",
   "metadata": {
    "slideshow": {
     "slide_type": "fragment"
    }
   },
   "outputs": [
    {
     "name": "stdout",
     "output_type": "stream",
     "text": [
      "title Legendary Hacker\n",
      "first_name Elliot\n",
      "last_name Alderson\n",
      "icn 👺\n"
     ]
    }
   ],
   "source": [
    "## values\n",
    "for i in junk_dict:\n",
    "    print(i, junk_dict[i])"
   ]
  },
  {
   "cell_type": "code",
   "execution_count": 48,
   "id": "124ec91a",
   "metadata": {
    "slideshow": {
     "slide_type": "subslide"
    }
   },
   "outputs": [
    {
     "data": {
      "text/plain": [
       "dict_keys(['title', 'first_name', 'last_name', 'icn'])"
      ]
     },
     "execution_count": 48,
     "metadata": {},
     "output_type": "execute_result"
    }
   ],
   "source": [
    "## get all keys\n",
    "junk_dict.keys()"
   ]
  },
  {
   "cell_type": "code",
   "execution_count": 49,
   "id": "0aa377c8",
   "metadata": {
    "slideshow": {
     "slide_type": "fragment"
    }
   },
   "outputs": [
    {
     "data": {
      "text/plain": [
       "dict_values(['Legendary Hacker', 'Elliot', 'Alderson', '👺'])"
      ]
     },
     "execution_count": 49,
     "metadata": {},
     "output_type": "execute_result"
    }
   ],
   "source": [
    "## get all values\n",
    "junk_dict.values()"
   ]
  },
  {
   "cell_type": "code",
   "execution_count": 50,
   "id": "d34d5bac",
   "metadata": {
    "slideshow": {
     "slide_type": "subslide"
    }
   },
   "outputs": [
    {
     "name": "stdout",
     "output_type": "stream",
     "text": [
      "KEY: title | VALUE: Legendary Hacker\n",
      "KEY: first_name | VALUE: Elliot\n",
      "KEY: last_name | VALUE: Alderson\n",
      "KEY: icn | VALUE: 👺\n"
     ]
    }
   ],
   "source": [
    "## get individual key pairs\n",
    "\n",
    "for key, value in junk_dict.items():\n",
    "    print(f\"KEY: {key} | VALUE: {value}\")"
   ]
  },
  {
   "cell_type": "code",
   "execution_count": 51,
   "id": "65cd88c8",
   "metadata": {
    "slideshow": {
     "slide_type": "subslide"
    }
   },
   "outputs": [
    {
     "data": {
      "text/plain": [
       "{'title': 'Legendary Hacker', 'first_name': 'Elliot', 'last_name': 'Alderson'}"
      ]
     },
     "execution_count": 51,
     "metadata": {},
     "output_type": "execute_result"
    }
   ],
   "source": [
    "# pop will work with dictionary as well\n",
    "junk_dict.pop(\"icn\")\n",
    "junk_dict"
   ]
  },
  {
   "cell_type": "code",
   "execution_count": 52,
   "id": "b3e1957d",
   "metadata": {
    "slideshow": {
     "slide_type": "fragment"
    }
   },
   "outputs": [
    {
     "data": {
      "text/plain": [
       "{'title': 'Legendary Hacker', 'first_name': 'Elliot'}"
      ]
     },
     "execution_count": 52,
     "metadata": {},
     "output_type": "execute_result"
    }
   ],
   "source": [
    "# popitem removes the last inserted key\n",
    "junk_dict.popitem()\n",
    "junk_dict"
   ]
  },
  {
   "cell_type": "code",
   "execution_count": 53,
   "id": "7261c822",
   "metadata": {
    "slideshow": {
     "slide_type": "fragment"
    }
   },
   "outputs": [
    {
     "data": {
      "text/plain": [
       "'NA'"
      ]
     },
     "execution_count": 53,
     "metadata": {},
     "output_type": "execute_result"
    }
   ],
   "source": [
    "# we can add a default return value if the given key is not in the dictionary\n",
    "junk_dict.pop(\"icn\", \"NA\")"
   ]
  },
  {
   "cell_type": "markdown",
   "id": "f4104aca",
   "metadata": {
    "slideshow": {
     "slide_type": "slide"
    }
   },
   "source": [
    "### Sorting"
   ]
  },
  {
   "cell_type": "markdown",
   "id": "16aa5e56",
   "metadata": {
    "slideshow": {
     "slide_type": "subslide"
    }
   },
   "source": [
    "_Sort a list of numbers_"
   ]
  },
  {
   "cell_type": "code",
   "execution_count": 54,
   "id": "df270b51",
   "metadata": {
    "slideshow": {
     "slide_type": "fragment"
    }
   },
   "outputs": [],
   "source": [
    "lst = [1, 3, 4, 0, -1, -2]"
   ]
  },
  {
   "cell_type": "code",
   "execution_count": 55,
   "id": "210917be",
   "metadata": {
    "slideshow": {
     "slide_type": "fragment"
    }
   },
   "outputs": [],
   "source": [
    "lst.sort()"
   ]
  },
  {
   "cell_type": "code",
   "execution_count": 56,
   "id": "46b0f2b5",
   "metadata": {
    "slideshow": {
     "slide_type": "fragment"
    }
   },
   "outputs": [
    {
     "data": {
      "text/plain": [
       "[-2, -1, 0, 1, 3, 4]"
      ]
     },
     "execution_count": 56,
     "metadata": {},
     "output_type": "execute_result"
    }
   ],
   "source": [
    "lst"
   ]
  },
  {
   "cell_type": "markdown",
   "id": "113882ee",
   "metadata": {
    "slideshow": {
     "slide_type": "slide"
    }
   },
   "source": [
    "## String"
   ]
  },
  {
   "cell_type": "code",
   "execution_count": 57,
   "id": "e5680553",
   "metadata": {
    "slideshow": {
     "slide_type": "subslide"
    }
   },
   "outputs": [],
   "source": [
    "junk_string = \"The quick brown fox jumps over the lazy dog\""
   ]
  },
  {
   "cell_type": "markdown",
   "id": "cfe2d682",
   "metadata": {
    "slideshow": {
     "slide_type": "fragment"
    }
   },
   "source": [
    "_Print individual words that make the string_"
   ]
  },
  {
   "cell_type": "markdown",
   "id": "889e0cab",
   "metadata": {
    "slideshow": {
     "slide_type": "fragment"
    }
   },
   "source": [
    "_Let's split the string_"
   ]
  },
  {
   "cell_type": "code",
   "execution_count": 58,
   "id": "21e69149",
   "metadata": {
    "slideshow": {
     "slide_type": "fragment"
    }
   },
   "outputs": [
    {
     "data": {
      "text/plain": [
       "['The', 'quick', 'brown', 'fox', 'jumps', 'over', 'the', 'lazy', 'dog']"
      ]
     },
     "execution_count": 58,
     "metadata": {},
     "output_type": "execute_result"
    }
   ],
   "source": [
    "junk_string.split()"
   ]
  },
  {
   "cell_type": "markdown",
   "id": "c6fe2d46",
   "metadata": {
    "slideshow": {
     "slide_type": "fragment"
    }
   },
   "source": [
    "_Its already printed but still, lets print it out below_"
   ]
  },
  {
   "cell_type": "code",
   "execution_count": 59,
   "id": "e587e50f",
   "metadata": {
    "slideshow": {
     "slide_type": "subslide"
    }
   },
   "outputs": [
    {
     "name": "stdout",
     "output_type": "stream",
     "text": [
      "The\n",
      "quick\n",
      "brown\n",
      "fox\n",
      "jumps\n",
      "over\n",
      "the\n",
      "lazy\n",
      "dog\n"
     ]
    }
   ],
   "source": [
    "for word in junk_string.split():\n",
    "    print(word)"
   ]
  },
  {
   "cell_type": "markdown",
   "id": "93b5c3da",
   "metadata": {
    "slideshow": {
     "slide_type": "subslide"
    }
   },
   "source": [
    "#### String Transforms"
   ]
  },
  {
   "cell_type": "code",
   "execution_count": 61,
   "id": "a1a888d4",
   "metadata": {
    "slideshow": {
     "slide_type": "fragment"
    }
   },
   "outputs": [
    {
     "data": {
      "text/plain": [
       "'THE QUICK BROWN FOX JUMPS OVER THE LAZY DOG'"
      ]
     },
     "execution_count": 61,
     "metadata": {},
     "output_type": "execute_result"
    }
   ],
   "source": [
    "# uppercase\n",
    "junk_string.upper()"
   ]
  },
  {
   "cell_type": "code",
   "execution_count": 62,
   "id": "aee96e36",
   "metadata": {
    "slideshow": {
     "slide_type": "fragment"
    }
   },
   "outputs": [
    {
     "data": {
      "text/plain": [
       "'the quick brown fox jumps over the lazy dog'"
      ]
     },
     "execution_count": 62,
     "metadata": {},
     "output_type": "execute_result"
    }
   ],
   "source": [
    "# lowercase\n",
    "junk_string.lower()"
   ]
  },
  {
   "cell_type": "code",
   "execution_count": 63,
   "id": "fa50f75e",
   "metadata": {
    "slideshow": {
     "slide_type": "fragment"
    }
   },
   "outputs": [
    {
     "data": {
      "text/plain": [
       "'The Quick Brown Fox Jumps Over The Lazy Dog'"
      ]
     },
     "execution_count": 63,
     "metadata": {},
     "output_type": "execute_result"
    }
   ],
   "source": [
    "# title case (first letter of every word will be capital)\n",
    "junk_string.title()"
   ]
  },
  {
   "cell_type": "markdown",
   "id": "df81b91b",
   "metadata": {
    "slideshow": {
     "slide_type": "slide"
    }
   },
   "source": [
    "### Reading files"
   ]
  },
  {
   "cell_type": "markdown",
   "id": "7f7318b7",
   "metadata": {
    "slideshow": {
     "slide_type": "fragment"
    }
   },
   "source": [
    "## How to read a file?\n",
    "\n",
    "_Given the file path to be `data.txt` how can we read it_"
   ]
  },
  {
   "cell_type": "code",
   "execution_count": 64,
   "id": "dd83e9aa",
   "metadata": {
    "slideshow": {
     "slide_type": "fragment"
    }
   },
   "outputs": [],
   "source": [
    "with open(\"data.txt\", mode=\"r\") as fobj:\n",
    "    data = fobj.read()"
   ]
  },
  {
   "cell_type": "code",
   "execution_count": 65,
   "id": "d3401cab",
   "metadata": {
    "slideshow": {
     "slide_type": "fragment"
    }
   },
   "outputs": [
    {
     "data": {
      "text/plain": [
       "'title,firstname,lastname,job\\nMr,Elliot,Alderson,Hacker\\nMr,Jake,Parelta,Detective\\nMs,Daenerys,Targaryen,Dragon Rider'"
      ]
     },
     "execution_count": 65,
     "metadata": {},
     "output_type": "execute_result"
    }
   ],
   "source": [
    "data"
   ]
  },
  {
   "cell_type": "markdown",
   "id": "20a7a1c7",
   "metadata": {
    "slideshow": {
     "slide_type": "subslide"
    }
   },
   "source": [
    "_Let's do it in one line_"
   ]
  },
  {
   "cell_type": "code",
   "execution_count": 66,
   "id": "6e758f5c",
   "metadata": {
    "slideshow": {
     "slide_type": "fragment"
    }
   },
   "outputs": [
    {
     "data": {
      "text/plain": [
       "'title,firstname,lastname,job\\nMr,Elliot,Alderson,Hacker\\nMr,Jake,Parelta,Detective\\nMs,Daenerys,Targaryen,Dragon Rider'"
      ]
     },
     "execution_count": 66,
     "metadata": {},
     "output_type": "execute_result"
    }
   ],
   "source": [
    "open(\"data.txt\", mode=\"r\").read()"
   ]
  },
  {
   "cell_type": "markdown",
   "id": "adbcac1d",
   "metadata": {
    "slideshow": {
     "slide_type": "subslide"
    }
   },
   "source": [
    "### Let's make things interesting with a problem"
   ]
  },
  {
   "cell_type": "markdown",
   "id": "c6859d14",
   "metadata": {
    "slideshow": {
     "slide_type": "fragment"
    }
   },
   "source": [
    "_Let's say we have a `.txt` where the first line contains all the unique key names. All the lines after the first line contains different data value for the specified keys at the top. We need to convert the data in the text file to a list of dictionary as given below_.\n",
    "\n",
    "**Input File**: `data.txt`\n",
    "\n",
    "**Contens of the file:**\n",
    "\n",
    "    title,firstname,lastname,job\n",
    "    Mr,Elliot,Alderson,Hacker\n",
    "    Mr,Jake,Parelta,Detective\n",
    "    Ms,Daenerys,Targaryen,Dragon Rider\n",
    "    \n"
   ]
  },
  {
   "cell_type": "markdown",
   "id": "dee17d2c",
   "metadata": {
    "slideshow": {
     "slide_type": "subslide"
    }
   },
   "source": [
    "**Output:**\n",
    "\n",
    "    [\n",
    "        {\n",
    "            \"title\": \"Mr\",\n",
    "            \"firstname\": \"Elliot\",\n",
    "            \"lastname\": \"Alderson\",\n",
    "            \"job\": \"Hacker\"\n",
    "        },\n",
    "        {\n",
    "            \"title\": \"Mr\",\n",
    "            \"firstname\": \"Jake\",\n",
    "            \"lastname\": \"Parelta\",\n",
    "            \"job\": \"Detective\"\n",
    "        },\n",
    "        {\n",
    "            \"title\": \"Ms\",\n",
    "            \"firstname\": \"Daenerys\",\n",
    "            \"lastname\": \"Targaryen\",\n",
    "            \"job\": \"Dragon Rider\"\n",
    "        }\n",
    "    ]\n"
   ]
  },
  {
   "cell_type": "markdown",
   "id": "5d00bda3",
   "metadata": {
    "slideshow": {
     "slide_type": "subslide"
    }
   },
   "source": [
    "Read `data.txt` into a variable called `file_data`"
   ]
  },
  {
   "cell_type": "code",
   "execution_count": 67,
   "id": "cca7a292",
   "metadata": {
    "slideshow": {
     "slide_type": "fragment"
    }
   },
   "outputs": [],
   "source": [
    "with open(\"data.txt\", mode=\"r\") as fobj:\n",
    "    file_data = fobj.read()"
   ]
  },
  {
   "cell_type": "code",
   "execution_count": 69,
   "id": "d5de5c79",
   "metadata": {},
   "outputs": [
    {
     "data": {
      "text/plain": [
       "['title,firstname,lastname,job',\n",
       " 'Mr,Elliot,Alderson,Hacker',\n",
       " 'Mr,Jake,Parelta,Detective',\n",
       " 'Ms,Daenerys,Targaryen,Dragon',\n",
       " 'Rider']"
      ]
     },
     "execution_count": 69,
     "metadata": {},
     "output_type": "execute_result"
    }
   ],
   "source": [
    "file_data.split()"
   ]
  },
  {
   "cell_type": "code",
   "execution_count": 68,
   "id": "d01bc0ac",
   "metadata": {
    "slideshow": {
     "slide_type": "fragment"
    }
   },
   "outputs": [
    {
     "data": {
      "text/plain": [
       "'title,firstname,lastname,job\\nMr,Elliot,Alderson,Hacker\\nMr,Jake,Parelta,Detective\\nMs,Daenerys,Targaryen,Dragon Rider'"
      ]
     },
     "execution_count": 68,
     "metadata": {},
     "output_type": "execute_result"
    }
   ],
   "source": [
    "file_data"
   ]
  },
  {
   "cell_type": "markdown",
   "id": "b7caaee9",
   "metadata": {
    "slideshow": {
     "slide_type": "fragment"
    }
   },
   "source": [
    "_`file_data` is one long string. How do we get individual lines?_"
   ]
  },
  {
   "cell_type": "markdown",
   "id": "b1a9c373",
   "metadata": {
    "slideshow": {
     "slide_type": "fragment"
    }
   },
   "source": [
    "#### _Anyone_ 🤔"
   ]
  },
  {
   "cell_type": "markdown",
   "id": "85f2c9ab",
   "metadata": {
    "slideshow": {
     "slide_type": "subslide"
    }
   },
   "source": [
    "We know that every line in the file contains data and they are separated by `new line` i.e. `\\n`. We can see that in the long string as well.\n",
    "\n",
    "_Let's split the long string by `\\n` and see what's the output_"
   ]
  },
  {
   "cell_type": "code",
   "execution_count": null,
   "id": "9ee45826",
   "metadata": {
    "slideshow": {
     "slide_type": "fragment"
    }
   },
   "outputs": [],
   "source": [
    "file_data_lines = file_data.split(\"\\n\")\n",
    "file_data_lines"
   ]
  },
  {
   "cell_type": "markdown",
   "id": "7d4240ac",
   "metadata": {
    "slideshow": {
     "slide_type": "fragment"
    }
   },
   "source": [
    "We got individual line present in the file and we stored it inside `file_data_lines` variable"
   ]
  },
  {
   "cell_type": "markdown",
   "id": "3eaf4826",
   "metadata": {
    "slideshow": {
     "slide_type": "fragment"
    }
   },
   "source": [
    "We know that the very first line contains the **key names** which we need to use. Let's get those keys out"
   ]
  },
  {
   "cell_type": "code",
   "execution_count": null,
   "id": "f11a72a6",
   "metadata": {
    "slideshow": {
     "slide_type": "subslide"
    }
   },
   "outputs": [],
   "source": [
    "key_string = file_data_lines[0]\n",
    "key_string"
   ]
  },
  {
   "cell_type": "markdown",
   "id": "b0670606",
   "metadata": {
    "slideshow": {
     "slide_type": "fragment"
    }
   },
   "source": [
    "_We got the first line_. Now let's use `split()` and split the lines using `comma` i.e. ','"
   ]
  },
  {
   "cell_type": "code",
   "execution_count": null,
   "id": "46a5361b",
   "metadata": {
    "slideshow": {
     "slide_type": "fragment"
    }
   },
   "outputs": [],
   "source": [
    "keys = key_string.split(\",\")\n",
    "keys"
   ]
  },
  {
   "cell_type": "markdown",
   "id": "cf13ec25",
   "metadata": {
    "slideshow": {
     "slide_type": "subslide"
    }
   },
   "source": [
    "### The next part is interesting "
   ]
  },
  {
   "cell_type": "markdown",
   "id": "a32029ec",
   "metadata": {
    "slideshow": {
     "slide_type": "fragment"
    }
   },
   "source": [
    "_Lets take all the lines except the very first line from `file_data_lines` variable_"
   ]
  },
  {
   "cell_type": "code",
   "execution_count": null,
   "id": "de570818",
   "metadata": {
    "slideshow": {
     "slide_type": "fragment"
    }
   },
   "outputs": [],
   "source": [
    "file_data_lines = file_data_lines[1:]"
   ]
  },
  {
   "cell_type": "code",
   "execution_count": null,
   "id": "3a5b07fa",
   "metadata": {
    "slideshow": {
     "slide_type": "fragment"
    }
   },
   "outputs": [],
   "source": [
    "file_data_lines"
   ]
  },
  {
   "cell_type": "markdown",
   "id": "7ce3dd17",
   "metadata": {
    "slideshow": {
     "slide_type": "subslide"
    }
   },
   "source": [
    "_We know every string/line inside the variable `file_data_lines` can be separated by a **comma** (\",\") and we also know how to loop over a list._"
   ]
  },
  {
   "cell_type": "code",
   "execution_count": null,
   "id": "da9743c5",
   "metadata": {
    "slideshow": {
     "slide_type": "fragment"
    }
   },
   "outputs": [],
   "source": [
    "for line in file_data_lines:\n",
    "    print(line.split(\",\"), type(line.split()))"
   ]
  },
  {
   "cell_type": "markdown",
   "id": "f5360340",
   "metadata": {
    "slideshow": {
     "slide_type": "subslide"
    }
   },
   "source": [
    "_When we iterate over each line and split it with `,` we get a list of strings._\n",
    "\n",
    "_The first item in the list will be the **title**, the second item will be **firstname** and so on._\n",
    "\n",
    "_We already have the keys in our `keys` variable_"
   ]
  },
  {
   "cell_type": "markdown",
   "id": "62b4c764",
   "metadata": {
    "slideshow": {
     "slide_type": "fragment"
    }
   },
   "source": [
    "- _Create an empty `output_list`_"
   ]
  },
  {
   "cell_type": "code",
   "execution_count": null,
   "id": "62e8bf50",
   "metadata": {
    "slideshow": {
     "slide_type": "fragment"
    }
   },
   "outputs": [],
   "source": [
    "output_list = []"
   ]
  },
  {
   "cell_type": "markdown",
   "id": "6f18f698",
   "metadata": {
    "slideshow": {
     "slide_type": "fragment"
    }
   },
   "source": [
    "- Use a for loop like before to iterate over the `file_data_lines` list\n",
    "- Create a new dictionary with name `itr_dict` inside the for loop\n",
    "- Split the line using `,` and store it inside variable `words`\n",
    "- Loop over all the keys inside `keys` using the index and based on the index fill the `itr_dict` with values from `words`"
   ]
  },
  {
   "cell_type": "code",
   "execution_count": null,
   "id": "3d3029ad",
   "metadata": {
    "slideshow": {
     "slide_type": "subslide"
    }
   },
   "outputs": [],
   "source": [
    "for line in file_data_lines:\n",
    "    itr_dict = {}\n",
    "    words = line.split(\",\")\n",
    "    for idx in range(len(keys)):\n",
    "        itr_dict[keys[idx]] = words[idx]\n",
    "    output_list.append(itr_dict)"
   ]
  },
  {
   "cell_type": "code",
   "execution_count": null,
   "id": "af1d4d74",
   "metadata": {
    "slideshow": {
     "slide_type": "fragment"
    }
   },
   "outputs": [],
   "source": [
    "output_list"
   ]
  },
  {
   "cell_type": "markdown",
   "id": "efaebd8b",
   "metadata": {
    "slideshow": {
     "slide_type": "slide"
    }
   },
   "source": [
    "## Let's try to achieve whatever we did above in one line or two at max"
   ]
  },
  {
   "cell_type": "code",
   "execution_count": null,
   "id": "894b97c9",
   "metadata": {
    "slideshow": {
     "slide_type": "fragment"
    }
   },
   "outputs": [],
   "source": [
    "keys = open(\"data.txt\").readlines()[0].split(\",\")\n",
    "[\n",
    "    {\n",
    "        keys[ix].rstrip().lstrip():w.rstrip().lstrip() \n",
    "        for ix, w in enumerate(l.split(\",\"))} \n",
    "    for l in open(\"data.txt\").readlines()[1:]\n",
    "]"
   ]
  },
  {
   "cell_type": "markdown",
   "id": "0fd0c2fa",
   "metadata": {
    "slideshow": {
     "slide_type": "slide"
    }
   },
   "source": [
    "## Code Reusability"
   ]
  },
  {
   "cell_type": "markdown",
   "id": "8314a6e3",
   "metadata": {
    "slideshow": {
     "slide_type": "fragment"
    }
   },
   "source": [
    "#### Ex: logic to do bubble sort from a list:\n",
    "\n",
    "```\n",
    "\n",
    "for all elements of list\n",
    "\n",
    "    if list[i] > list[i+1]\n",
    "\n",
    "        swap(list[i], list[i+1])\n",
    "\n",
    "```\n",
    "\n",
    "\n"
   ]
  },
  {
   "cell_type": "markdown",
   "id": "98122663",
   "metadata": {
    "slideshow": {
     "slide_type": "fragment"
    }
   },
   "source": [
    "####  I have 100 lists to sort"
   ]
  },
  {
   "cell_type": "markdown",
   "id": "9d75def0",
   "metadata": {
    "slideshow": {
     "slide_type": "slide"
    }
   },
   "source": [
    "## Solution: Functions"
   ]
  },
  {
   "cell_type": "markdown",
   "id": "1b89465f",
   "metadata": {
    "slideshow": {
     "slide_type": "fragment"
    }
   },
   "source": [
    "Ex:\n",
    "```\n",
    "\n",
    "    def bubble_sort(list_of_things):\n",
    "        for all elements of list_of_things\n",
    "            if list_of_things[i] > list_of_things[i+1]\n",
    "                swap(list_of_things[i], list_of_things[i+1])\n",
    "        \n",
    "        return list_of_things\n",
    "    \n",
    "    \n",
    "```"
   ]
  },
  {
   "cell_type": "markdown",
   "id": "209fb92a",
   "metadata": {
    "slideshow": {
     "slide_type": "fragment"
    }
   },
   "source": [
    "Now we can call the function like below\n",
    "\n",
    "```\n",
    "list_of_things1 = [2,4,1,3]\n",
    "list_of_things2 = [12,1,72,44,8]\n",
    "list_of_things3 = [0.2,0.4,0.11,0.36]\n",
    "\n",
    "print(bubble_sort(list_of_things1))\n",
    "print(bubble_sort(list_of_things2))\n",
    "print(bubble_sort(list_of_things3))\n",
    "\n",
    "```\n"
   ]
  },
  {
   "cell_type": "markdown",
   "id": "032150e7",
   "metadata": {
    "slideshow": {
     "slide_type": "subslide"
    }
   },
   "source": [
    "### Syntax of a function:"
   ]
  },
  {
   "cell_type": "markdown",
   "id": "335ba33c",
   "metadata": {
    "slideshow": {
     "slide_type": "fragment"
    }
   },
   "source": [
    "```\n",
    "def function_name(arguments seperated by comma):\n",
    "    function definition\n",
    "     \n",
    "```\n"
   ]
  },
  {
   "cell_type": "markdown",
   "id": "2a48e3fe",
   "metadata": {
    "slideshow": {
     "slide_type": "subslide"
    }
   },
   "source": [
    "### Functions without return statement"
   ]
  },
  {
   "cell_type": "markdown",
   "id": "9a6d6dac",
   "metadata": {
    "slideshow": {
     "slide_type": "fragment"
    }
   },
   "source": [
    "```\n",
    "def function_name(arguments seperated by comma):\n",
    "    function definition \n",
    "```"
   ]
  },
  {
   "cell_type": "code",
   "execution_count": null,
   "id": "12cebf12",
   "metadata": {
    "slideshow": {
     "slide_type": "fragment"
    }
   },
   "outputs": [],
   "source": [
    "\n",
    "\n",
    "def sum_of_numbers(list_of_numbers):\n",
    "   \n",
    "    result = sum(list_of_numbers)\n",
    "    \n",
    "print(sum_of_numbers([1,2,3]))\n"
   ]
  },
  {
   "cell_type": "markdown",
   "id": "ab25167d",
   "metadata": {
    "slideshow": {
     "slide_type": "subslide"
    }
   },
   "source": [
    "### Functions with return statement"
   ]
  },
  {
   "cell_type": "code",
   "execution_count": null,
   "id": "78eea408",
   "metadata": {
    "slideshow": {
     "slide_type": "fragment"
    }
   },
   "outputs": [],
   "source": [
    "\n",
    "def sum_of_numbers(list_of_numbers):\n",
    "   \n",
    "    result = sum(list_of_numbers)\n",
    "    return result\n",
    "    \n",
    "print(sum_of_numbers([1,2,3]))"
   ]
  },
  {
   "cell_type": "markdown",
   "id": "944aaf8a",
   "metadata": {
    "slideshow": {
     "slide_type": "subslide"
    }
   },
   "source": [
    "### Keyword & Non-Keyword Arguments"
   ]
  },
  {
   "cell_type": "code",
   "execution_count": null,
   "id": "9a50d7c8",
   "metadata": {
    "slideshow": {
     "slide_type": "fragment"
    }
   },
   "outputs": [],
   "source": [
    "def user(name, age):\n",
    "    print(f'Hi {name}')\n",
    "    \n",
    "user('Ranbir', 23)\n"
   ]
  },
  {
   "cell_type": "code",
   "execution_count": null,
   "id": "bec50abc",
   "metadata": {
    "slideshow": {
     "slide_type": "fragment"
    }
   },
   "outputs": [],
   "source": [
    "user(age=23, name='Ranbir')"
   ]
  },
  {
   "cell_type": "code",
   "execution_count": null,
   "id": "7a965fce",
   "metadata": {
    "slideshow": {
     "slide_type": "fragment"
    }
   },
   "outputs": [],
   "source": [
    "what if I use keywords for some arguments and not for some?"
   ]
  },
  {
   "cell_type": "code",
   "execution_count": null,
   "id": "ca641cf9",
   "metadata": {
    "slideshow": {
     "slide_type": "fragment"
    }
   },
   "outputs": [],
   "source": [
    "def user(name, age, height, weight):\n",
    "    print(f'Hi {name}')\n",
    "    \n",
    "\n"
   ]
  },
  {
   "cell_type": "code",
   "execution_count": null,
   "id": "490d7af2",
   "metadata": {
    "slideshow": {
     "slide_type": "fragment"
    }
   },
   "outputs": [],
   "source": [
    "\n",
    "user(age=23, 'Ranbir')"
   ]
  },
  {
   "cell_type": "code",
   "execution_count": null,
   "id": "fe1a4561",
   "metadata": {
    "slideshow": {
     "slide_type": "fragment"
    }
   },
   "outputs": [],
   "source": [
    "user('Ranbir', 23, weight=70, height=6.1)"
   ]
  },
  {
   "cell_type": "markdown",
   "id": "fc89eeef",
   "metadata": {
    "slideshow": {
     "slide_type": "subslide"
    }
   },
   "source": [
    "### Functions with variable number of arguments"
   ]
  },
  {
   "cell_type": "code",
   "execution_count": null,
   "id": "94a7ab97",
   "metadata": {},
   "outputs": [],
   "source": [
    "\n",
    "def sum_of_numbers(*args):\n",
    "   print(args)\n",
    "    \n",
    "sum_of_numbers(1,2,3)"
   ]
  },
  {
   "cell_type": "code",
   "execution_count": null,
   "id": "35b18b7a",
   "metadata": {},
   "outputs": [],
   "source": [
    "def sum_of_numbers(**kwargs):\n",
    "   print(kwargs)\n",
    "    \n",
    "sum_of_numbers(name='John', age=12)"
   ]
  },
  {
   "cell_type": "code",
   "execution_count": null,
   "id": "e37f0b15",
   "metadata": {},
   "outputs": [],
   "source": [
    "def sum_of_numbers(*args, **kwargs):\n",
    "    print(args)\n",
    "    print(kwargs)\n",
    "    \n",
    "sum_of_numbers(1,2,3,name='John', age=12)"
   ]
  },
  {
   "cell_type": "markdown",
   "id": "7807e8b8",
   "metadata": {
    "slideshow": {
     "slide_type": "slide"
    }
   },
   "source": [
    "## Pass by value & Pass by reference"
   ]
  },
  {
   "cell_type": "code",
   "execution_count": null,
   "id": "43142603",
   "metadata": {
    "slideshow": {
     "slide_type": "fragment"
    }
   },
   "outputs": [],
   "source": [
    "variable_name -> address_to_the_value_in_heap\n",
    "\n",
    "Ex: list_obj = [1,2,3]\n",
    "    \n",
    "    0b123 -> [1,2,3] in Heap\n",
    "    list_obj -> 0b123"
   ]
  },
  {
   "cell_type": "code",
   "execution_count": null,
   "id": "8c0cec6f",
   "metadata": {
    "slideshow": {
     "slide_type": "fragment"
    }
   },
   "outputs": [],
   "source": [
    "\n",
    "list_obj = [1,2,3]\n",
    "\n",
    "def fun(obj):\n",
    "    obj.append(5)\n",
    "    \n",
    "fun(list_obj)\n",
    "print(list_obj)"
   ]
  },
  {
   "cell_type": "code",
   "execution_count": null,
   "id": "a4b10082",
   "metadata": {
    "slideshow": {
     "slide_type": "fragment"
    }
   },
   "outputs": [],
   "source": [
    "\n",
    "list_obj = [1,2,3]\n",
    "\n",
    "def fun(obj):\n",
    "    obj = [3,2,1]\n",
    "    \n",
    "fun(list_obj)\n",
    "print(list_obj)"
   ]
  },
  {
   "cell_type": "code",
   "execution_count": null,
   "id": "fc3ac67e",
   "metadata": {
    "slideshow": {
     "slide_type": "fragment"
    }
   },
   "outputs": [],
   "source": [
    "\n",
    "string = 'SampleString'\n",
    "\n",
    "def fun(obj):\n",
    "    obj = obj[1:]\n",
    "    \n",
    "fun(string)\n",
    "print(string)"
   ]
  },
  {
   "cell_type": "markdown",
   "id": "5bbcb291",
   "metadata": {
    "slideshow": {
     "slide_type": "slide"
    }
   },
   "source": [
    "# Design Patterns - Classes"
   ]
  },
  {
   "cell_type": "code",
   "execution_count": null,
   "id": "2404052c",
   "metadata": {
    "slideshow": {
     "slide_type": "fragment"
    }
   },
   "outputs": [],
   "source": [
    "user1_dict = {'user_id':1, 'user_name':'Name1', 'dob': '19/01/1999', 'user_phone_number': '9999999991'}\n",
    "\n",
    "user2_dict = {'user_id':2, 'user_name':'Name2', 'dob': '19/02/1999', 'user_phone_number': '9999999992'}\n",
    "\n",
    "user3_dict = {'user_id':3, 'user_name':'Name3', 'dob': '19/03/1999', 'user_phone_number': '9999999993'}\n",
    "\n",
    "\n",
    "\n",
    "def get_age(dob):\n",
    "\n",
    "    #calculate age and return\n",
    "    pass\n",
    "    \n",
    "\n",
    "get_age(user1_dict['dob'])\n",
    "get_age(user2_dict['dob'])\n",
    "get_age(user3_dict['dob'])"
   ]
  },
  {
   "cell_type": "markdown",
   "id": "5c5ce883",
   "metadata": {
    "slideshow": {
     "slide_type": "subslide"
    }
   },
   "source": [
    "### 1. Organize data and functions"
   ]
  },
  {
   "cell_type": "code",
   "execution_count": null,
   "id": "df2310d7",
   "metadata": {
    "slideshow": {
     "slide_type": "fragment"
    }
   },
   "outputs": [],
   "source": [
    "class User:\n",
    "    def __init__(self, user_id, user_name, dob, user_phone_number):\n",
    "        self.user_id = user_id\n",
    "        self.user_name = user_name\n",
    "        self.dob = dob\n",
    "        self.user_phone_number = user_phone_number\n",
    "\n",
    "    def get_age(self,):\n",
    "\n",
    "        #calculate age and return\n",
    "        pass\n",
    "    "
   ]
  },
  {
   "cell_type": "code",
   "execution_count": null,
   "id": "9a32b07d",
   "metadata": {
    "slideshow": {
     "slide_type": "fragment"
    }
   },
   "outputs": [],
   "source": [
    "user1 = User(user_id=1, user_name='Ranveer', dob='19/01/1997', user_phone_number='9999999991')\n",
    "user2 = User(user_id=2, user_name='Shahrukh', dob='19/02/1997', user_phone_number='9999999992')\n",
    "user3 = User(user_id=3, user_name='Ranbir', dob='19/03/1997', user_phone_number='9999999993')"
   ]
  },
  {
   "cell_type": "markdown",
   "id": "812d75f5",
   "metadata": {
    "slideshow": {
     "slide_type": "fragment"
    }
   },
   "source": [
    "We can get the age by calling object's get_age method\n",
    "```\n",
    "user1.get_age()\n",
    "```"
   ]
  },
  {
   "cell_type": "markdown",
   "id": "7c4f4db6",
   "metadata": {
    "slideshow": {
     "slide_type": "subslide"
    }
   },
   "source": [
    "### 2. Protecting Data"
   ]
  },
  {
   "cell_type": "code",
   "execution_count": null,
   "id": "9ef3b786",
   "metadata": {
    "slideshow": {
     "slide_type": "fragment"
    }
   },
   "outputs": [],
   "source": [
    "class User:\n",
    "    def __init__(self, user_id, user_name, dob, user_phone_number):\n",
    "        self.__user_id = user_id\n",
    "        self.__user_name = user_name\n",
    "        self.__dob = dob\n",
    "        self.__user_phone_number = user_phone_number\n",
    "\n",
    "    def get_age(self,):\n",
    "\n",
    "        #calculate age and return\n",
    "        pass\n",
    "     "
   ]
  },
  {
   "cell_type": "code",
   "execution_count": null,
   "id": "8c06d4cf",
   "metadata": {
    "slideshow": {
     "slide_type": "fragment"
    }
   },
   "outputs": [],
   "source": [
    "user1 = User(user_id=1, user_name='Ranveer', dob='19/01/1997', user_phone_number='9999999991')\n"
   ]
  },
  {
   "cell_type": "code",
   "execution_count": null,
   "id": "621d1293",
   "metadata": {
    "slideshow": {
     "slide_type": "fragment"
    }
   },
   "outputs": [],
   "source": [
    "user1.__user_id"
   ]
  },
  {
   "cell_type": "markdown",
   "id": "b6c14c77",
   "metadata": {
    "slideshow": {
     "slide_type": "subslide"
    }
   },
   "source": [
    "### 3. Design entities like real world and assign attributes and methods to it"
   ]
  },
  {
   "cell_type": "markdown",
   "id": "24902c8b",
   "metadata": {
    "slideshow": {
     "slide_type": "fragment"
    }
   },
   "source": [
    "```\n",
    "class Helpline:\n",
    "    \n",
    "    def get_helpline(self,):\n",
    "        raise NotImplementedError\n",
    "        \n",
    "class BangaloreHelpline(Helpline):\n",
    "    def get_helpline(self,):\n",
    "        return '1800-004-001'\n",
    "    \n",
    "class KolkataHelpline(Helpline):\n",
    "    def get_helpline(self,):\n",
    "        return '1800-004-001'\n",
    "```"
   ]
  },
  {
   "cell_type": "markdown",
   "id": "d36b7c35",
   "metadata": {
    "slideshow": {
     "slide_type": "subslide"
    }
   },
   "source": [
    "### 4. We can know what things can be performed on the"
   ]
  },
  {
   "cell_type": "markdown",
   "id": "3d446801",
   "metadata": {
    "slideshow": {
     "slide_type": "fragment"
    }
   },
   "source": [
    "```\n",
    "object_methods = [method_name for method_name in dir(user3)\n",
    "                  if callable(getattr(object, method_name))]\n",
    "```"
   ]
  },
  {
   "cell_type": "code",
   "execution_count": null,
   "id": "cf181281",
   "metadata": {},
   "outputs": [],
   "source": []
  }
 ],
 "metadata": {
  "celltoolbar": "Slideshow",
  "kernelspec": {
   "display_name": "Python 3 (ipykernel)",
   "language": "python",
   "name": "python3"
  },
  "language_info": {
   "codemirror_mode": {
    "name": "ipython",
    "version": 3
   },
   "file_extension": ".py",
   "mimetype": "text/x-python",
   "name": "python",
   "nbconvert_exporter": "python",
   "pygments_lexer": "ipython3",
   "version": "3.7.13"
  }
 },
 "nbformat": 4,
 "nbformat_minor": 5
}
