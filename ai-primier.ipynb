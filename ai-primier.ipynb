{
 "cells": [
  {
   "cell_type": "markdown",
   "id": "8b03609c",
   "metadata": {
    "slideshow": {
     "slide_type": "slide"
    }
   },
   "source": [
    "## Welcome to the AI Primier 🤖"
   ]
  },
  {
   "cell_type": "markdown",
   "id": "7b666e7d",
   "metadata": {
    "slideshow": {
     "slide_type": "subslide"
    }
   },
   "source": [
    "Let's see the differences between the following terms\n",
    "- AI (Artificial Intelligence)\n",
    "- Machine Learning\n",
    "- Deep Learning"
   ]
  },
  {
   "cell_type": "markdown",
   "id": "cd40797e",
   "metadata": {
    "slideshow": {
     "slide_type": "subslide"
    }
   },
   "source": [
    "<img src=\"./venn_1.pbm\" />"
   ]
  },
  {
   "cell_type": "markdown",
   "id": "fde98e6a",
   "metadata": {
    "slideshow": {
     "slide_type": "subslide"
    }
   },
   "source": [
    "### Then what is _Data Science_? 🤔"
   ]
  },
  {
   "cell_type": "markdown",
   "id": "6d5ebe1c",
   "metadata": {
    "slideshow": {
     "slide_type": "fragment"
    }
   },
   "source": [
    "<img src=\"ds_ai_conj.png\" />"
   ]
  },
  {
   "cell_type": "markdown",
   "id": "4b77c98a",
   "metadata": {
    "slideshow": {
     "slide_type": "slide"
    }
   },
   "source": [
    "## Data can come in different forms"
   ]
  },
  {
   "cell_type": "markdown",
   "id": "cea60727",
   "metadata": {
    "slideshow": {
     "slide_type": "subslide"
    }
   },
   "source": [
    "<img src=\"./st_unst_data.png\" height=\"200px\" />"
   ]
  },
  {
   "cell_type": "markdown",
   "id": "6e5d8244",
   "metadata": {
    "slideshow": {
     "slide_type": "slide"
    }
   },
   "source": [
    "## But some things won't change"
   ]
  },
  {
   "cell_type": "markdown",
   "id": "eec69000",
   "metadata": {
    "slideshow": {
     "slide_type": "fragment"
    }
   },
   "source": [
    "_Whatever the source of data; **Tabular**, **Text**, **Audio**, **Images**, or **Video**,  the labels will fall under **Numerical** or **Categorical**_"
   ]
  },
  {
   "cell_type": "markdown",
   "id": "1ec7a1c9",
   "metadata": {
    "slideshow": {
     "slide_type": "fragment"
    }
   },
   "source": [
    "<img src=\"./data_type.jpeg\" />"
   ]
  },
  {
   "cell_type": "markdown",
   "id": "44f06659",
   "metadata": {
    "slideshow": {
     "slide_type": "slide"
    }
   },
   "source": [
    "## Types of Learning Methods"
   ]
  },
  {
   "cell_type": "markdown",
   "id": "766053d2",
   "metadata": {
    "slideshow": {
     "slide_type": "fragment"
    }
   },
   "source": [
    "- Supervised Learning\n"
   ]
  },
  {
   "cell_type": "markdown",
   "id": "f267b46d",
   "metadata": {
    "slideshow": {
     "slide_type": "fragment"
    }
   },
   "source": [
    "- Unsupervised Learning"
   ]
  },
  {
   "cell_type": "markdown",
   "id": "7d056e7d",
   "metadata": {
    "slideshow": {
     "slide_type": "fragment"
    }
   },
   "source": [
    "- Semi/Self-Supervised Learning"
   ]
  },
  {
   "cell_type": "markdown",
   "id": "62eadb3b",
   "metadata": {
    "slideshow": {
     "slide_type": "fragment"
    }
   },
   "source": [
    "- Reinforcement Learning"
   ]
  },
  {
   "cell_type": "markdown",
   "id": "99ce64b7",
   "metadata": {
    "slideshow": {
     "slide_type": "fragment"
    }
   },
   "source": [
    "- Representation Learning"
   ]
  },
  {
   "cell_type": "markdown",
   "id": "fa683f74",
   "metadata": {
    "slideshow": {
     "slide_type": "slide"
    }
   },
   "source": [
    "### Let's quickly go through a brief about every learning method"
   ]
  },
  {
   "cell_type": "markdown",
   "id": "24abd25b",
   "metadata": {
    "slideshow": {
     "slide_type": "subslide"
    }
   },
   "source": [
    "#### Supervised Learning"
   ]
  },
  {
   "cell_type": "markdown",
   "id": "125025e0",
   "metadata": {
    "slideshow": {
     "slide_type": "fragment"
    }
   },
   "source": [
    "<img src=\"./sup_learning.jpeg\" />"
   ]
  },
  {
   "cell_type": "markdown",
   "id": "31d44153",
   "metadata": {
    "slideshow": {
     "slide_type": "subslide"
    }
   },
   "source": [
    "##### Alogrithms under Supervised Learning"
   ]
  },
  {
   "cell_type": "markdown",
   "id": "07e4c3f4",
   "metadata": {
    "slideshow": {
     "slide_type": "fragment"
    }
   },
   "source": [
    "- Linear Regression\n",
    "- Logistic Regression\n",
    "- Support Vector Machines\n",
    "- Decision Trees\n",
    "- Random Forest"
   ]
  },
  {
   "cell_type": "markdown",
   "id": "cf890406",
   "metadata": {
    "slideshow": {
     "slide_type": "slide"
    }
   },
   "source": [
    "#### Unsupervised Learning"
   ]
  },
  {
   "cell_type": "markdown",
   "id": "23115ee4",
   "metadata": {
    "slideshow": {
     "slide_type": "fragment"
    }
   },
   "source": [
    "<img src=\"./unsup_learning.jpeg\" />"
   ]
  },
  {
   "cell_type": "markdown",
   "id": "4e8dc7db",
   "metadata": {
    "slideshow": {
     "slide_type": "subslide"
    }
   },
   "source": [
    "##### Alogrithms under Unsupervised Learning"
   ]
  },
  {
   "cell_type": "markdown",
   "id": "9c3f48fd",
   "metadata": {
    "slideshow": {
     "slide_type": "fragment"
    }
   },
   "source": [
    "- k-means clustering\n",
    "- Mixture models (Gaussian Mixture)\n",
    "- Hierarchical Clustering\n",
    "- Hidden Markov model\n",
    "- Singular-Value Decomposition (SVD)"
   ]
  },
  {
   "cell_type": "markdown",
   "id": "c69b1831",
   "metadata": {
    "slideshow": {
     "slide_type": "slide"
    }
   },
   "source": [
    "##### Semi/Self-Supervised Learning"
   ]
  },
  {
   "cell_type": "markdown",
   "id": "2793270b",
   "metadata": {
    "slideshow": {
     "slide_type": "fragment"
    }
   },
   "source": [
    "<img src=\"semi_sup.png\" />"
   ]
  },
  {
   "cell_type": "markdown",
   "id": "cc9e74a8",
   "metadata": {
    "slideshow": {
     "slide_type": "subslide"
    }
   },
   "source": [
    "##### Alogrithms under Semi-Supervised Learning"
   ]
  },
  {
   "cell_type": "markdown",
   "id": "c64eea7d",
   "metadata": {
    "slideshow": {
     "slide_type": "fragment"
    }
   },
   "source": [
    "- SimCLRv1\n",
    "- SimCLRv2"
   ]
  },
  {
   "cell_type": "markdown",
   "id": "484d3ffa",
   "metadata": {
    "slideshow": {
     "slide_type": "slide"
    }
   },
   "source": [
    "#### Reinforcement Learning"
   ]
  },
  {
   "cell_type": "markdown",
   "id": "1a8779f8",
   "metadata": {
    "slideshow": {
     "slide_type": "fragment"
    }
   },
   "source": [
    "<img src=\"./reinforce_learning.jpeg\" />"
   ]
  },
  {
   "cell_type": "markdown",
   "id": "c6c57caa",
   "metadata": {
    "slideshow": {
     "slide_type": "subslide"
    }
   },
   "source": [
    "<img src=\"./reinf_lander.gif\" />"
   ]
  },
  {
   "cell_type": "markdown",
   "id": "eca6b7d9",
   "metadata": {
    "slideshow": {
     "slide_type": "subslide"
    }
   },
   "source": [
    "##### Algorithms under Reinforcement Learning"
   ]
  },
  {
   "cell_type": "markdown",
   "id": "23448554",
   "metadata": {
    "slideshow": {
     "slide_type": "fragment"
    }
   },
   "source": [
    "- Q-Learning (Simple Table)\n",
    "- Deep Q-Learning (Deep Learning replaces the Table)\n",
    "- Temporal Difference"
   ]
  },
  {
   "cell_type": "markdown",
   "id": "8bd1536c",
   "metadata": {
    "slideshow": {
     "slide_type": "slide"
    }
   },
   "source": [
    "#### Representation Learning"
   ]
  },
  {
   "cell_type": "markdown",
   "id": "b8a63316",
   "metadata": {
    "slideshow": {
     "slide_type": "fragment"
    }
   },
   "source": [
    "<img src=\"./representation_learning.jpeg\" />"
   ]
  },
  {
   "cell_type": "markdown",
   "id": "ac8b8110",
   "metadata": {
    "slideshow": {
     "slide_type": "subslide"
    }
   },
   "source": [
    "##### Algorithms under Representation Learning"
   ]
  },
  {
   "cell_type": "markdown",
   "id": "cacc29e7",
   "metadata": {
    "slideshow": {
     "slide_type": "fragment"
    }
   },
   "source": [
    "- Autoencoders"
   ]
  },
  {
   "cell_type": "markdown",
   "id": "aad36d59",
   "metadata": {
    "slideshow": {
     "slide_type": "slide"
    }
   },
   "source": [
    "### AI Primer END"
   ]
  },
  {
   "cell_type": "code",
   "execution_count": null,
   "id": "a6c85076",
   "metadata": {
    "slideshow": {
     "slide_type": "skip"
    }
   },
   "outputs": [],
   "source": []
  }
 ],
 "metadata": {
  "celltoolbar": "Slideshow",
  "kernelspec": {
   "display_name": "Python 3 (ipykernel)",
   "language": "python",
   "name": "python3"
  },
  "language_info": {
   "codemirror_mode": {
    "name": "ipython",
    "version": 3
   },
   "file_extension": ".py",
   "mimetype": "text/x-python",
   "name": "python",
   "nbconvert_exporter": "python",
   "pygments_lexer": "ipython3",
   "version": "3.7.13"
  }
 },
 "nbformat": 4,
 "nbformat_minor": 5
}
